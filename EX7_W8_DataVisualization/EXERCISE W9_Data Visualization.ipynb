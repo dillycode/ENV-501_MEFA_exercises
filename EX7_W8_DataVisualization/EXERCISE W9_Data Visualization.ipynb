{
 "cells": [
  {
   "cell_type": "markdown",
   "id": "75ae486a",
   "metadata": {},
   "source": [
    "# Exercise Session 8 – Data visualization in Python\n",
    "### ENV–501 Material and Energy Flow Analysis\n",
    "\n",
    "November 10th, 2022\n",
    "\n",
    "Content developed by Kyle Haas and Matteo Barsanti\n",
    "\n",
    "1. Bar and scatter plot\n",
    "2. Sankey diagram\n",
    "3. Plotting colored maps\n",
    "\n",
    "#### Sources:\n",
    "- Data Eurostat: https://ec.europa.eu/eurostat/databrowser/view/env_ac_sd/default/table?lang=en \n",
    "- Map visualization tutorial: https://jan-46106.medium.com/plotting-maps-with-european-data-in-python-part-i-decd83837de4\n",
    "- GISCO statistical unit dataset (NUTS): https://ec.europa.eu/eurostat/web/gisco/geodata/reference-data/administrative-units-statistical-units/nuts#nuts21\n"
   ]
  },
  {
   "cell_type": "markdown",
   "id": "4fc7a402",
   "metadata": {},
   "source": [
    "### Bar, line and scatter plots\n",
    "\n",
    "bar and scatter plot (comparing countries), line (same country over time)"
   ]
  },
  {
   "cell_type": "code",
   "execution_count": null,
   "id": "7f33b45f",
   "metadata": {},
   "outputs": [],
   "source": []
  },
  {
   "cell_type": "markdown",
   "id": "f968005d",
   "metadata": {},
   "source": [
    "### Sankey diagram\n",
    "\n",
    "Sankey diagram comparing two countries"
   ]
  },
  {
   "cell_type": "code",
   "execution_count": null,
   "id": "ade57cb2",
   "metadata": {},
   "outputs": [],
   "source": []
  },
  {
   "cell_type": "markdown",
   "id": "eb91854a",
   "metadata": {},
   "source": [
    "### European maps\n",
    "\n",
    "European level map of any indicator (This 4th element is not essential but personally I would be interested to include it. For instance a colored map plot like here https://jan-46106.medium.com/plotting-maps-with-european-data-in-python-part-i-decd83837de4 )"
   ]
  },
  {
   "cell_type": "code",
   "execution_count": null,
   "id": "db5c0ba9",
   "metadata": {},
   "outputs": [],
   "source": []
  }
 ],
 "metadata": {
  "kernelspec": {
   "display_name": "Python 3 (ipykernel)",
   "language": "python",
   "name": "python3"
  },
  "language_info": {
   "codemirror_mode": {
    "name": "ipython",
    "version": 3
   },
   "file_extension": ".py",
   "mimetype": "text/x-python",
   "name": "python",
   "nbconvert_exporter": "python",
   "pygments_lexer": "ipython3",
   "version": "3.8.8"
  }
 },
 "nbformat": 4,
 "nbformat_minor": 5
}
