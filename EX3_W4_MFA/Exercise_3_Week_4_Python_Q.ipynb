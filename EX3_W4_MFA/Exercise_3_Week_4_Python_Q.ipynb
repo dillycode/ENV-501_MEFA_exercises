{
 "cells": [
  {
   "cell_type": "markdown",
   "id": "89e3199b",
   "metadata": {},
   "source": [
    "# Exercise 3, Week 4 \n",
    "\n",
    "### ENV-501 Material and Energy Flow Analysis \n",
    "\n",
    "October 11th, 2022\n",
    "\n",
    "Adapted to Jupyter Notebook by Kyle Haas\n",
    "\n",
    "Content\n",
    "\n",
    "[Multi-stage mass and energy flows](#ex1)\n",
    "\n",
    "This exercise will give an example of mass flows useful for analysis of multi-stage processes, e.g. the production of a good or product with several processing steps such as how silicon undergoes processing to become a photovoltaic cell / solar panel. This exercise can be extended to the later processing of the cell into a module, then a complete array. "
   ]
  },
  {
   "cell_type": "markdown",
   "id": "59fb98bf",
   "metadata": {},
   "source": [
    "<a id='ex1'></a>\n",
    "## Exercise 4\n",
    "\n",
    "Production of silicon wafers is commonly done through the Czochralski Growth Method, where an ampule of silicon is drawn from a molten vat of silicon. The CZ growth method howver uses a large amount of energy needed to purify and melt the silicion The seed crystal is used to determine the crystal orientation of the entire ingot"
   ]
  },
  {
   "cell_type": "code",
   "execution_count": null,
   "id": "6380b8bf",
   "metadata": {},
   "outputs": [],
   "source": [
    "from IPython.display import Image \n",
    "Image(filename='Solar+cell+manufacturing+process.jpeg', width=700) "
   ]
  },
  {
   "cell_type": "code",
   "execution_count": null,
   "id": "4516a470",
   "metadata": {},
   "outputs": [],
   "source": [
    "from IPython.display import Image \n",
    "Image(filename='Solar+Cell+Construction.jpeg', width=700) "
   ]
  },
  {
   "cell_type": "code",
   "execution_count": null,
   "id": "3a253dbd",
   "metadata": {},
   "outputs": [],
   "source": [
    "# Display external images using IPython.display.Image\n",
    "from IPython.display import Image \n",
    "Image(filename='Cz_growth_image.jpeg', width=700) "
   ]
  },
  {
   "cell_type": "markdown",
   "id": "bdb10d1c",
   "metadata": {},
   "source": [
    "## Question 1: Perform a system analysis: establish the system diagram and derive the balance equations.\n",
    "\n",
    "These are your knowns; the known inputs produce a certain known output. With this information, you can derive an intensity (how much of a given Y is required per unit of X)\n"
   ]
  },
  {
   "cell_type": "code",
   "execution_count": null,
   "id": "0f5049b7",
   "metadata": {},
   "outputs": [],
   "source": [
    "from IPython.display import Image \n",
    "Image(filename='PV_Cell_Production_Table.jpeg', width=700) "
   ]
  },
  {
   "cell_type": "code",
   "execution_count": null,
   "id": "1cf9284f",
   "metadata": {},
   "outputs": [],
   "source": [
    "#Wafer Production \n",
    "si_input = 1           #[kg]\n",
    "energy_input_si = 420  #[MJ]\n",
    "wafer_output = 1       #[kg]\n",
    "\n",
    "#Photovoltaic cell production\n",
    "energy_input_PV = 13.6 #[MJ]\n",
    "glass_input = 10       #[kg]\n",
    "wafer_input = 1.6      #[m2]\n",
    "PV_cell_output = 1     #[m2]"
   ]
  },
  {
   "cell_type": "markdown",
   "id": "55c5b6b0",
   "metadata": {},
   "source": [
    "HINT: Breaking the process flow into two stages, build the equations for each independent stage, then the whole complete stage by combining your equations. "
   ]
  },
  {
   "cell_type": "code",
   "execution_count": null,
   "id": "1c35f6b9",
   "metadata": {},
   "outputs": [],
   "source": [
    "from IPython.display import Image \n",
    "Image(filename='PV_material_flow.jpeg', width=700) "
   ]
  },
  {
   "cell_type": "markdown",
   "id": "e17aa877",
   "metadata": {},
   "source": [
    "### Wafer Production can be broken into it's independent inputs and outputs\n",
    "\n",
    "wafer_output x k3 = si_input x k1+energy_input x k2\n",
    "\n",
    "### PV Cell Production can be broken into it's independent inputs and outputs\n",
    "\n",
    "PV_cell_output x k6 = ??\n",
    "\n",
    "### You can insert equation 1 into the second equation to solve for the entire system flow\n",
    "\n",
    "PV_cell_output x k6 = ??\n"
   ]
  },
  {
   "cell_type": "markdown",
   "id": "59bf0adf",
   "metadata": {},
   "source": [
    "## Question 2: Develop the output equations considering each of the inputs, and calculate the amount of energy, silicon and glass needed to produce 1 m2 of PV cells.\n"
   ]
  },
  {
   "cell_type": "code",
   "execution_count": null,
   "id": "717b9d3a",
   "metadata": {},
   "outputs": [],
   "source": [
    "# solve for the k rate / itensities needed to produce a known amount of PV cells\n",
    "\n",
    "#Wafer Production \n",
    "k1 = energy_input_si/ wafer_output\n",
    "k2 = \n",
    "\n",
    "#PV Cell Production\n",
    "k3 = \n",
    "k4 = \n",
    "k5 = \n",
    "k6 = \n",
    "\n",
    "#Amount of PV cells you need to produce\n",
    "PV_out = 159\n",
    "#Solving for the photovoltaic production requirements using the itensities\n",
    "glass_req = k5*PV_out\n",
    "energy_req_PV = \n",
    "si_req_PV = \n",
    "#Solving for the silicon production flow\n",
    "energy_req_si = \n",
    "raw_si_req = \n",
    "\n",
    "total_si_needed = raw_si_req\n",
    "total_energy_needed = energy_req_si+energy_req_PV\n",
    "total_glass_needed = glass_req\n",
    "\n",
    "print('Total Silicon Needed =', total_si_needed, 'Kg')\n",
    "print('Total Energy Required =',total_energy_needed, 'MJ')\n",
    "print('Total Glass Needed =',total_glass_needed, 'Kg')"
   ]
  },
  {
   "cell_type": "code",
   "execution_count": null,
   "id": "987617a1",
   "metadata": {},
   "outputs": [],
   "source": [
    "#You can adjust the PV_out to however much PV m2 you need and see how the inputs change\n",
    "\n",
    "import matplotlib.pyplot as plt\n",
    "\n",
    "fig, (ax1,ax2,ax3) = plt.subplots(3,sharex=True)\n",
    "\n",
    "total_si_needed = []\n",
    "total_energy_needed =[]\n",
    "total_glass_needed=[]\n",
    "\n",
    "x =[]\n",
    "for i in range(1,1000):\n",
    "    PV_out = i\n",
    "    glass_req = k5*PV_out\n",
    "    energy_req_PV = k4*PV_out\n",
    "    si_req_PV = k3*PV_out\n",
    "    energy_req_si = k1*si_req_PV\n",
    "    raw_si_req = k2*si_req_PV\n",
    "    \n",
    "    total_si_needed.append(si_req_PV)\n",
    "    total_energy_needed.append((energy_req_si+energy_req_PV))\n",
    "    total_glass_needed.append(glass_req)\n",
    "    x.append(i) \n",
    "    \n",
    "fig.suptitle('Material Inputs Needed')\n",
    "ax1.plot(x,total_si_needed)\n",
    "ax1.set_title('Total Raw Si Needed')\n",
    "ax2.plot(x,total_energy_needed)\n",
    "ax2.set_title('Total Energy Needed')\n",
    "ax3.plot(x,total_glass_needed,)\n",
    "ax3.set_title('Total Glass Needed')\n",
    "\n",
    "\n"
   ]
  },
  {
   "cell_type": "markdown",
   "id": "32658685",
   "metadata": {},
   "source": [
    "This graph wasn't neccessary, but it shouldn't suprise you; we should expect a linear relationship unless specified (or hinted at otherwise). \n",
    "\n",
    "The power of analyses like this is that when the intensities change (your k rate) you can show just how much material or energy the chage of step produces in context with the entire processesing scheme. Additionally, the k values can be altered to reflect non-linear relations, which often describe more real-world scenarios and processes. \n",
    "\n",
    "Example: if you're building a machine / device and it needs electricity, say, a vacuum pump. The more power [W] it needs, the more current and heating losses it will draw, which scales as I^2R (This can be avoided by using bigger electrical cables with less resistance, but you get the idea). Hence, energy input (or at least the hardwear needed to carrier larger electrical loads) generally scales non-linearly."
   ]
  },
  {
   "cell_type": "code",
   "execution_count": null,
   "id": "44dfc23d",
   "metadata": {},
   "outputs": [],
   "source": [
    "#You can adjust the PV_out to however much PV m2 you need and see how the inputs change\n",
    "\n",
    "import matplotlib.pyplot as plt\n",
    "\n",
    "fig, (ax1,ax2,ax3) = plt.subplots(3,sharex=True)\n",
    "\n",
    "total_si_needed = []\n",
    "total_energy_needed =[]\n",
    "total_glass_needed=[]\n",
    "\n",
    "x =[]\n",
    "for i in range(1,1000):\n",
    "    PV_out = i\n",
    "    glass_req = k5*PV_out\n",
    "    energy_req_PV = k4*PV_out\n",
    "    si_req_PV = k3*PV_out\n",
    "    energy_req_si = k1*si_req_PV+(k1*si_req_PV)**2*0.0005\n",
    "    raw_si_req = k2*si_req_PV\n",
    "    \n",
    "    total_si_needed.append(si_req_PV)\n",
    "    total_energy_needed.append((energy_req_si+energy_req_PV))\n",
    "    total_glass_needed.append(glass_req)\n",
    "    x.append(i) \n",
    "    \n",
    "fig.suptitle('Material Inputs Needed')\n",
    "ax1.plot(x,total_si_needed)\n",
    "ax1.set_title('Total Raw Si Needed')\n",
    "ax2.plot(x,total_energy_needed)\n",
    "ax2.set_title('Total Energy Needed')\n",
    "ax3.plot(x,total_glass_needed,)\n",
    "ax3.set_title('Total Glass Needed')\n"
   ]
  }
 ],
 "metadata": {
  "kernelspec": {
   "display_name": "Python 3 (ipykernel)",
   "language": "python",
   "name": "python3"
  },
  "language_info": {
   "codemirror_mode": {
    "name": "ipython",
    "version": 3
   },
   "file_extension": ".py",
   "mimetype": "text/x-python",
   "name": "python",
   "nbconvert_exporter": "python",
   "pygments_lexer": "ipython3",
   "version": "3.8.8"
  }
 },
 "nbformat": 4,
 "nbformat_minor": 5
}
