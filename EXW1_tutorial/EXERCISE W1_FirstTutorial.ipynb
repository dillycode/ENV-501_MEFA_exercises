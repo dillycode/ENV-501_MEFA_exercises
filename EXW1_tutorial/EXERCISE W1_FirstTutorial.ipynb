{
 "cells": [
  {
   "cell_type": "markdown",
   "id": "bb0ffed8",
   "metadata": {},
   "source": [
    "# Exercise Session 1 – Jupyter Notebook tutorial\n",
    "### ENV–501 Material and Energy Flow Analysis\n",
    "\n",
    "September 22nd, 2022\n",
    "\n",
    "Developed by Matteo Barsanti\n",
    "\n",
    "#### Content of this tutorial:\n",
    "\n",
    "1. [Introduction to Jupyter notebook](#notebook)\n",
    "2. [An informal introduction to Python](#python)\n",
    "3. [Data handling with Pandas](#pandas)\n",
    "\n",
    "#### Sources:\n",
    "- Jupyter Notebook documentation: https://jupyter-notebook.readthedocs.io/en/stable/notebook.html\n",
    "- Jupyter Notebook tutorial: https://www.dataquest.io/blog/jupyter-notebook-tutorial/\n",
    "- Basic Python tutorial: https://docs.python.org/3/tutorial/introduction.html#using-python-as-a-calculator\n",
    "- Pandas tutorial: https://www.w3schools.com/python/pandas/default.asp\n"
   ]
  },
  {
   "cell_type": "markdown",
   "id": "53340197",
   "metadata": {},
   "source": [
    "<a id='notebook'></a>\n",
    "## Introduction to Jupyter Notebook\n",
    "\n",
    "### What is a “notebook”?\n",
    "\n",
    "A notebook integrates code and its output into a single document that combines visualizations, narrative text, mathematical equations, and other rich media. \n",
    "\n",
    "In other words: it’s a single document where you can run code, display the output, and also add explanations, formulas, charts, and make your work more transparent, understandable, repeatable, and shareable. \n",
    "\n",
    "### Kernel and Cell\n",
    "There are two main concepts that should be clarified:\n",
    "\n",
    "- A **kernel** is a “computational engine” that executes the code contained in a notebook document.\n",
    "- A **cell** is a container for text to be displayed in the notebook or code to be executed by the notebook’s kernel.\n",
    "\n",
    "### Types of cells\n",
    "There are two main cell types that we will use:\n",
    "\n",
    "- A **code cell** contains code to be executed in the kernel. When the code is run, the notebook displays the output below the code cell that generated it.\n",
    "- A **Markdown cell** contains text formatted using Markdown and displays its output in-place when the Markdown cell is run.\n",
    "\n",
    "Markdown is a lightweight, easy to learn markup language for formatting plain text.\n",
    "\n",
    "###  Keyboard shortcuts\n",
    "\n",
    "In a Jupyter Notebook, there is always one “active” cell highlighted with a border whose color denotes its current mode:\n",
    "\n",
    "- Green outline — cell is in “edit mode” and you can type into the cells like a normal text editor\n",
    "- Blue outline — cell is in “command mode” and you can edit the notebook as a whole, but not type into individual cells\n",
    "\n",
    "You can change between edit and command mode with Enter and Esc, respectively. \n",
    "Below some shortcuts in command mode: \n",
    "- Basic navigation: k (move up), j (move down)\n",
    "- Saving the notebook: s\n",
    "- Change Cell types: y (code cell), m (markdown cell)\n",
    "- Cell creation: a (add cell above), b (add cell below)\n",
    "- Cell editing: x (remove cell), c (copy cell), v (cell paste), z (undo delete cell)\n",
    "- Kernel operations: 0 (press twice for restart kernel)\n",
    "\n",
    "Below shortcuts in edit mode:\n",
    "- run cell: shift-enter"
   ]
  },
  {
   "cell_type": "markdown",
   "id": "91978520",
   "metadata": {},
   "source": [
    "<a id='python'></a>\n",
    "## An informal introduction to Python "
   ]
  },
  {
   "cell_type": "markdown",
   "id": "77975990",
   "metadata": {},
   "source": [
    "### Numbers\n",
    "\n",
    "The interpreter acts as a simple calculator: you can type an expression at it and it will write the value. "
   ]
  },
  {
   "cell_type": "code",
   "execution_count": null,
   "id": "a489c80d",
   "metadata": {},
   "outputs": [],
   "source": [
    "3 + 1"
   ]
  },
  {
   "cell_type": "code",
   "execution_count": null,
   "id": "6168f9fe",
   "metadata": {},
   "outputs": [],
   "source": [
    "# define some variables and perform some operations\n",
    "a = 7\n",
    "b = 2\n",
    "\n",
    "print('sum:', a + b)\n",
    "print('product:', a * b)\n",
    "print('exponential:', a ** b)\n",
    "print('division:', a / b)\n",
    "print('floor division:', a // b)\n",
    "print('modulus:', a % b)"
   ]
  },
  {
   "cell_type": "markdown",
   "id": "fca6dcc2",
   "metadata": {},
   "source": [
    "### Strings\n",
    "\n",
    "Besides numbers, Python can also manipulate strings, which can be expressed as \"...\" or '...'."
   ]
  },
  {
   "cell_type": "code",
   "execution_count": null,
   "id": "64b919da",
   "metadata": {},
   "outputs": [],
   "source": [
    "# define your string\n",
    "mystring = \"My first string\""
   ]
  },
  {
   "cell_type": "code",
   "execution_count": null,
   "id": "f3353f81",
   "metadata": {},
   "outputs": [],
   "source": [
    "# string indexing\n",
    "print(mystring[4])"
   ]
  },
  {
   "cell_type": "code",
   "execution_count": null,
   "id": "8c2b9bf5",
   "metadata": {},
   "outputs": [],
   "source": [
    "# string slicing\n",
    "print(mystring[0:2])"
   ]
  },
  {
   "cell_type": "markdown",
   "id": "5a231fb8",
   "metadata": {},
   "source": [
    "### Lists\n",
    "\n",
    "Python knows a number of compound data types, used to group together other values. \n",
    "\n",
    "The most versatile is the list, which can be written as a list of comma-separated values (items) between square brackets. Lists might contain items of different types, but usually the items all have the same type. \n",
    "\n",
    "Python lists are 0-indexed."
   ]
  },
  {
   "cell_type": "code",
   "execution_count": null,
   "id": "d8df34e5",
   "metadata": {},
   "outputs": [],
   "source": [
    "# define your list\n",
    "mylist = [1,2,3,4,2,1]\n",
    "mylist"
   ]
  },
  {
   "cell_type": "code",
   "execution_count": null,
   "id": "64878219",
   "metadata": {},
   "outputs": [],
   "source": [
    "# list indexing\n",
    "print(mylist[2])"
   ]
  },
  {
   "cell_type": "code",
   "execution_count": null,
   "id": "081ccfc3",
   "metadata": {},
   "outputs": [],
   "source": [
    "# list slicing\n",
    "print(mylist[2:])"
   ]
  },
  {
   "cell_type": "code",
   "execution_count": null,
   "id": "bafbba00",
   "metadata": {},
   "outputs": [],
   "source": [
    "# change an element of a list\n",
    "mylist[1] = 0\n",
    "mylist"
   ]
  },
  {
   "cell_type": "code",
   "execution_count": null,
   "id": "d77432df",
   "metadata": {},
   "outputs": [],
   "source": [
    "# join or concatenate two lists\n",
    "list1 = [1,4,9]\n",
    "list2 = [0,2]\n",
    "\n",
    "list3 = list1 + list2\n",
    "print(list3)"
   ]
  },
  {
   "cell_type": "code",
   "execution_count": null,
   "id": "e7023943",
   "metadata": {},
   "outputs": [],
   "source": [
    "# append an element to a list\n",
    "list1 = [1,4,9]\n",
    "\n",
    "list1.append('new element')\n",
    "print(list1)"
   ]
  },
  {
   "cell_type": "markdown",
   "id": "8410b8b5",
   "metadata": {},
   "source": [
    "### Sets, tuples and dictionaries\n",
    "\n",
    "Together with list there are other 3 built-in data types in Python used to store collections of data.\n",
    "\n",
    "- A **sets** is a collection which is unordered, unchangeable, and unindexed.\n",
    "- A **tuple** is a collection which is ordered and unchangeable.\n",
    "- A **dictionary** is used to store data values in key:value pairs. It is ordered, changeable and do not allow duplicates.\n",
    "\n"
   ]
  },
  {
   "cell_type": "code",
   "execution_count": null,
   "id": "f4019955",
   "metadata": {},
   "outputs": [],
   "source": [
    "# set\n",
    "myset = {1,2,3}\n",
    "myset"
   ]
  },
  {
   "cell_type": "code",
   "execution_count": null,
   "id": "915f4cc6",
   "metadata": {},
   "outputs": [],
   "source": [
    "# tuple\n",
    "mytuple = (1,2,3)\n",
    "mytuple"
   ]
  },
  {
   "cell_type": "code",
   "execution_count": null,
   "id": "cdf53639",
   "metadata": {},
   "outputs": [],
   "source": [
    "# dictionary\n",
    "mydict = {'key1':4, 'key2':3, 'key3':10}\n",
    "mydict"
   ]
  },
  {
   "cell_type": "code",
   "execution_count": null,
   "id": "bc432317",
   "metadata": {},
   "outputs": [],
   "source": [
    "# call an element of a dictionary using the key\n",
    "mydict['key2']"
   ]
  },
  {
   "cell_type": "markdown",
   "id": "44c1998a",
   "metadata": {},
   "source": [
    "<a id='pandas'></a>\n",
    "## Pandas \n",
    "\n",
    "Pandas is a Python library used for working with datasets.\n",
    "\n",
    "It has functions for analyzing, cleaning, exploring, and manipulating data.\n",
    "\n",
    "Source tutorial: https://www.w3schools.com/python/pandas/default.asp\n",
    "\n",
    "if you have not installed pandas yet, you should enterthe command “pip install pandas” on the terminal or \"conda install pandas\" if you are using Anaconda Navigator."
   ]
  },
  {
   "cell_type": "code",
   "execution_count": null,
   "id": "3efa87df",
   "metadata": {},
   "outputs": [],
   "source": [
    "# import the library\n",
    "import pandas as pd"
   ]
  },
  {
   "cell_type": "code",
   "execution_count": null,
   "id": "cec6a86a",
   "metadata": {},
   "outputs": [],
   "source": [
    "# create sample dataset\n",
    "df = pd.util.testing.makeMixedDataFrame()\n",
    "df"
   ]
  },
  {
   "cell_type": "code",
   "execution_count": null,
   "id": "2620f682",
   "metadata": {},
   "outputs": [],
   "source": [
    "# show dataframe shape\n",
    "df.shape"
   ]
  },
  {
   "cell_type": "code",
   "execution_count": null,
   "id": "3bc02896",
   "metadata": {},
   "outputs": [],
   "source": [
    "# column data types\n",
    "df.dtypes"
   ]
  },
  {
   "cell_type": "code",
   "execution_count": null,
   "id": "47b431c1",
   "metadata": {},
   "outputs": [],
   "source": [
    "# show basic dataframe info\n",
    "df.describe()"
   ]
  },
  {
   "cell_type": "code",
   "execution_count": null,
   "id": "1df8563f",
   "metadata": {},
   "outputs": [],
   "source": [
    "# print dataframe index \n",
    "print(df.index)"
   ]
  },
  {
   "cell_type": "code",
   "execution_count": null,
   "id": "dbe8a4c4",
   "metadata": {},
   "outputs": [],
   "source": [
    "# print dataframe columns\n",
    "print(df.columns)"
   ]
  },
  {
   "cell_type": "code",
   "execution_count": null,
   "id": "e2481607",
   "metadata": {},
   "outputs": [],
   "source": [
    "# change name to the index or columns\n",
    "df.index = ['I1', 'I2', 'I3', 'I4', 'I5']\n",
    "df.columns = ['COL1', 'COL2', 'COL3', 'COL4']\n",
    "df"
   ]
  },
  {
   "cell_type": "code",
   "execution_count": null,
   "id": "2e5e2c1e",
   "metadata": {},
   "outputs": [],
   "source": [
    "# A DataFrame is like a table with rows and columns.\n",
    "# Pandas use the loc attribute to return one or more specified elements of a dataframe\n",
    "print(df.loc['I2','COL3'])\n",
    "\n",
    "# otherwise use iloc for indexing using the corresponsng row and column numbers \n",
    "print(df.iloc[0,3])"
   ]
  },
  {
   "cell_type": "code",
   "execution_count": null,
   "id": "f4e7c663",
   "metadata": {},
   "outputs": [],
   "source": [
    "# you can also call an entire column\n",
    "print(df.loc[:,'COL1'])"
   ]
  },
  {
   "cell_type": "code",
   "execution_count": null,
   "id": "133bbb43",
   "metadata": {},
   "outputs": [],
   "source": [
    "# create a new column combining other columns\n",
    "df.loc[:,'COL5'] = df.loc[:,'COL1'] + df.loc[:,'COL2'] \n",
    "df"
   ]
  },
  {
   "cell_type": "code",
   "execution_count": null,
   "id": "af0f056b",
   "metadata": {},
   "outputs": [],
   "source": [
    "# dataframes can be also initialized starting from dictionaries\n",
    "data = {'Name': ['Tom', 'nick', 'krish', 'jack'],\n",
    "        'Age':  [20, 21, 19, 18],\n",
    "       }\n",
    "  \n",
    "# create DataFrame from a dictionary\n",
    "df = pd.DataFrame(data)\n",
    "\n",
    "# print the output\n",
    "df"
   ]
  },
  {
   "cell_type": "code",
   "execution_count": null,
   "id": "146de052",
   "metadata": {},
   "outputs": [],
   "source": [
    "# simple problem: find the color of the box with the largest volume\n",
    "\n",
    "# load dataframe from an excel file\n",
    "df_boxes = pd.read_excel('data_tutorial.xlsx')  \n",
    "print(df_boxes)\n",
    "\n",
    "# calculate the volume of the boxes using the width, length and height columns\n",
    "df_boxes.loc[:,'volume'] = df_boxes.loc[:,'width'] * df_boxes.loc[:,'length'] * df_boxes.loc[:,'height']\n",
    "\n",
    "# index of the box with highest volumne\n",
    "index_max_vol = df_boxes.loc[:,'volume'].idxmax()\n",
    "\n",
    "# pick the corresponding color\n",
    "color = df_boxes.loc[index_max_vol,'color']\n",
    "print(f'the {color} box has the largest volume')"
   ]
  }
 ],
 "metadata": {
  "kernelspec": {
   "display_name": "Python 3",
   "language": "python",
   "name": "python3"
  },
  "language_info": {
   "codemirror_mode": {
    "name": "ipython",
    "version": 3
   },
   "file_extension": ".py",
   "mimetype": "text/x-python",
   "name": "python",
   "nbconvert_exporter": "python",
   "pygments_lexer": "ipython3",
   "version": "3.8.8"
  }
 },
 "nbformat": 4,
 "nbformat_minor": 5
}
